{
  "nbformat": 4,
  "nbformat_minor": 0,
  "metadata": {
    "colab": {
      "name": "model-combine.ipynb",
      "provenance": [],
      "collapsed_sections": []
    },
    "kernelspec": {
      "name": "python3",
      "display_name": "Python 3"
    }
  },
  "cells": [
    {
      "cell_type": "code",
      "metadata": {
        "id": "6X1OqdTMAS8Z",
        "colab_type": "code",
        "colab": {}
      },
      "source": [
        "import matplotlib.pyplot as plt\n",
        "import pandas as pd\n",
        "import numpy as np\n",
        "from sklearn.metrics import mean_squared_error\n",
        "\n",
        "ticker = 'FB'\n",
        "\n",
        "df = pd.read_csv('{}.csv'.format(ticker))\n",
        "df = df['Adj Close'].values"
      ],
      "execution_count": 0,
      "outputs": []
    },
    {
      "cell_type": "code",
      "metadata": {
        "id": "TznvWUsdA0Lz",
        "colab_type": "code",
        "colab": {}
      },
      "source": [
        "df_svr_train = pd.read_csv('{}_SVR_pred_train.csv'.format(ticker))\n",
        "df_svr_test = pd.read_csv('{}_SVR_pred_test.csv'.format(ticker))\n",
        "df_ann_train = pd.read_csv('{}_LSTM_pred_train.csv'.format(ticker))\n",
        "df_ann_test = pd.read_csv('{}_LSTM_pred_test.csv'.format(ticker))\n",
        "\n",
        "len_train = df_svr_train.shape[0]\n",
        "len_train"
      ],
      "execution_count": 0,
      "outputs": []
    },
    {
      "cell_type": "code",
      "metadata": {
        "id": "z_yOPxtOCUxZ",
        "colab_type": "code",
        "colab": {}
      },
      "source": [
        "len_test = df_svr_test.shape[0]\n",
        "df_train = (df_svr_train['pred_train'] + df_ann_train['pred_train'])/2\n",
        "df_test = (df_svr_test['pred_test'] + df_ann_test['pred_test'])/2\n",
        "\n",
        "plt.clf()\n",
        "plt.plot(df, label=\"True Price\")\n",
        "plt.plot(range(len_train), df_train,linewidth=2)\n",
        "plt.plot(range(len_train, len_train+len_test), df_test,linewidth=2,label='Predicted Price')\n",
        "plt.legend()\n",
        "plt.title('Combined Model for {}'.format(ticker))\n",
        "plt.savefig('combinedmodel_{}_zoomedout.png'.format(ticker))"
      ],
      "execution_count": 0,
      "outputs": []
    },
    {
      "cell_type": "code",
      "metadata": {
        "id": "-B4uD0B6E61j",
        "colab_type": "code",
        "colab": {}
      },
      "source": [
        "plt.clf()\n",
        "plt.plot(df[-len_test:],linewidth=2,label='True Price')\n",
        "plt.plot(df_test,linewidth=2,label='Predicted Price')\n",
        "\n",
        "plt.legend()\n",
        "plt.title('Combined Model for {}'.format(ticker))\n",
        "plt.savefig('combinedmodel_{}_zoomedin.png'.format(ticker))"
      ],
      "execution_count": 0,
      "outputs": []
    },
    {
      "cell_type": "code",
      "metadata": {
        "id": "7kW-2nw5DY98",
        "colab_type": "code",
        "colab": {}
      },
      "source": [
        "rmse = np.sqrt(mean_squared_error(df[-len_test:], df_test))\n",
        "print(rmse)"
      ],
      "execution_count": 0,
      "outputs": []
    },
    {
      "cell_type": "code",
      "metadata": {
        "id": "5LcZ8Jz9vKLx",
        "colab_type": "code",
        "colab": {}
      },
      "source": [
        "with open(\"rsme.txt\", \"a+\") as myfile:\n",
        "    myfile.write(\"{} {} combined\\n\".format(ticker,rmse))"
      ],
      "execution_count": 0,
      "outputs": []
    }
  ]
}